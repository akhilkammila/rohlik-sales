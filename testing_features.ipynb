{
 "cells": [
  {
   "cell_type": "markdown",
   "metadata": {},
   "source": [
    "## Testing feature engineering code from others' notebooks\n",
    "\n",
    "Particularly https://www.kaggle.com/code/hardyxu52/simplified-3rd-place-solution-rohlik-sales/notebook\n",
    "\n",
    "Feature engineering part 4 (with the last sales ewm 005)"
   ]
  },
  {
   "cell_type": "code",
   "execution_count": 15,
   "metadata": {},
   "outputs": [],
   "source": [
    "import pandas as pd\n",
    "import numpy as np\n",
    "import seaborn as sns\n",
    "import matplotlib.pyplot as plt"
   ]
  },
  {
   "cell_type": "code",
   "execution_count": 16,
   "metadata": {},
   "outputs": [],
   "source": [
    "DIRECTORY = './data/'\n",
    "calendar = pd.read_csv(DIRECTORY + 'calendar.csv', parse_dates=['date'])\n",
    "inventory = pd.read_csv(DIRECTORY + 'inventory.csv')\n",
    "test = pd.read_csv(DIRECTORY + 'sales_test.csv', parse_dates=['date'])\n",
    "train = pd.read_csv(DIRECTORY + 'sales_train.csv', parse_dates=['date'])\n",
    "solution = pd.read_csv(DIRECTORY + 'solution.csv')\n",
    "test_weights = pd.read_csv(DIRECTORY + 'test_weights.csv')"
   ]
  },
  {
   "cell_type": "code",
   "execution_count": 22,
   "metadata": {},
   "outputs": [],
   "source": [
    "train = train.sort_values(by='date')\n",
    "train['last_sales_ema005'] = train.groupby(['unique_id'])['sales'].transform(lambda x: x.shift(1).ewm(alpha=0.005).mean()).fillna(0)"
   ]
  },
  {
   "cell_type": "code",
   "execution_count": 23,
   "metadata": {},
   "outputs": [
    {
     "data": {
      "text/html": [
       "<div>\n",
       "<style scoped>\n",
       "    .dataframe tbody tr th:only-of-type {\n",
       "        vertical-align: middle;\n",
       "    }\n",
       "\n",
       "    .dataframe tbody tr th {\n",
       "        vertical-align: top;\n",
       "    }\n",
       "\n",
       "    .dataframe thead th {\n",
       "        text-align: right;\n",
       "    }\n",
       "</style>\n",
       "<table border=\"1\" class=\"dataframe\">\n",
       "  <thead>\n",
       "    <tr style=\"text-align: right;\">\n",
       "      <th></th>\n",
       "      <th>sales</th>\n",
       "      <th>last_sales_ema005</th>\n",
       "      <th>warehouse</th>\n",
       "      <th>date</th>\n",
       "    </tr>\n",
       "  </thead>\n",
       "  <tbody>\n",
       "    <tr>\n",
       "      <th>3887826</th>\n",
       "      <td>8.49</td>\n",
       "      <td>0.000000</td>\n",
       "      <td>Frankfurt_1</td>\n",
       "      <td>2022-06-13</td>\n",
       "    </tr>\n",
       "    <tr>\n",
       "      <th>3887833</th>\n",
       "      <td>8.25</td>\n",
       "      <td>8.490000</td>\n",
       "      <td>Frankfurt_1</td>\n",
       "      <td>2022-06-14</td>\n",
       "    </tr>\n",
       "    <tr>\n",
       "      <th>3887927</th>\n",
       "      <td>16.93</td>\n",
       "      <td>8.369699</td>\n",
       "      <td>Frankfurt_1</td>\n",
       "      <td>2022-06-15</td>\n",
       "    </tr>\n",
       "    <tr>\n",
       "      <th>3887930</th>\n",
       "      <td>80.68</td>\n",
       "      <td>11.237448</td>\n",
       "      <td>Frankfurt_1</td>\n",
       "      <td>2022-06-16</td>\n",
       "    </tr>\n",
       "    <tr>\n",
       "      <th>3887931</th>\n",
       "      <td>87.17</td>\n",
       "      <td>28.728834</td>\n",
       "      <td>Frankfurt_1</td>\n",
       "      <td>2022-06-17</td>\n",
       "    </tr>\n",
       "    <tr>\n",
       "      <th>...</th>\n",
       "      <td>...</td>\n",
       "      <td>...</td>\n",
       "      <td>...</td>\n",
       "      <td>...</td>\n",
       "    </tr>\n",
       "    <tr>\n",
       "      <th>3887814</th>\n",
       "      <td>93.87</td>\n",
       "      <td>99.602420</td>\n",
       "      <td>Frankfurt_1</td>\n",
       "      <td>2024-05-29</td>\n",
       "    </tr>\n",
       "    <tr>\n",
       "      <th>3887921</th>\n",
       "      <td>141.62</td>\n",
       "      <td>99.554997</td>\n",
       "      <td>Frankfurt_1</td>\n",
       "      <td>2024-05-30</td>\n",
       "    </tr>\n",
       "    <tr>\n",
       "      <th>3887901</th>\n",
       "      <td>236.32</td>\n",
       "      <td>99.901859</td>\n",
       "      <td>Frankfurt_1</td>\n",
       "      <td>2024-05-31</td>\n",
       "    </tr>\n",
       "    <tr>\n",
       "      <th>3887809</th>\n",
       "      <td>143.30</td>\n",
       "      <td>101.023103</td>\n",
       "      <td>Frankfurt_1</td>\n",
       "      <td>2024-06-01</td>\n",
       "    </tr>\n",
       "    <tr>\n",
       "      <th>3887831</th>\n",
       "      <td>206.75</td>\n",
       "      <td>101.369469</td>\n",
       "      <td>Frankfurt_1</td>\n",
       "      <td>2024-06-02</td>\n",
       "    </tr>\n",
       "  </tbody>\n",
       "</table>\n",
       "<p>189 rows × 4 columns</p>\n",
       "</div>"
      ],
      "text/plain": [
       "          sales  last_sales_ema005    warehouse       date\n",
       "3887826    8.49           0.000000  Frankfurt_1 2022-06-13\n",
       "3887833    8.25           8.490000  Frankfurt_1 2022-06-14\n",
       "3887927   16.93           8.369699  Frankfurt_1 2022-06-15\n",
       "3887930   80.68          11.237448  Frankfurt_1 2022-06-16\n",
       "3887931   87.17          28.728834  Frankfurt_1 2022-06-17\n",
       "...         ...                ...          ...        ...\n",
       "3887814   93.87          99.602420  Frankfurt_1 2024-05-29\n",
       "3887921  141.62          99.554997  Frankfurt_1 2024-05-30\n",
       "3887901  236.32          99.901859  Frankfurt_1 2024-05-31\n",
       "3887809  143.30         101.023103  Frankfurt_1 2024-06-01\n",
       "3887831  206.75         101.369469  Frankfurt_1 2024-06-02\n",
       "\n",
       "[189 rows x 4 columns]"
      ]
     },
     "execution_count": 23,
     "metadata": {},
     "output_type": "execute_result"
    }
   ],
   "source": [
    "train[train['unique_id'] == 1][['sales', 'last_sales_ema005', 'warehouse', 'date']]"
   ]
  },
  {
   "cell_type": "code",
   "execution_count": 12,
   "metadata": {},
   "outputs": [
    {
     "data": {
      "text/plain": [
       "3887826      8.490000\n",
       "3887833      8.369699\n",
       "3887927     11.237448\n",
       "3887930     28.728834\n",
       "3887931     40.534536\n",
       "              ...    \n",
       "3887814     99.554997\n",
       "3887921     99.901859\n",
       "3887901    101.023103\n",
       "3887809    101.369469\n",
       "3887831    102.230083\n",
       "Name: sales, Length: 189, dtype: float64"
      ]
     },
     "execution_count": 12,
     "metadata": {},
     "output_type": "execute_result"
    }
   ],
   "source": [
    "train[train['unique_id'] == 1]['sales'].ewm(alpha=0.005).mean()"
   ]
  }
 ],
 "metadata": {
  "kernelspec": {
   "display_name": "tradingClub",
   "language": "python",
   "name": "python3"
  },
  "language_info": {
   "codemirror_mode": {
    "name": "ipython",
    "version": 3
   },
   "file_extension": ".py",
   "mimetype": "text/x-python",
   "name": "python",
   "nbconvert_exporter": "python",
   "pygments_lexer": "ipython3",
   "version": "3.12.5"
  }
 },
 "nbformat": 4,
 "nbformat_minor": 2
}
