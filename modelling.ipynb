{
 "cells": [
  {
   "cell_type": "markdown",
   "metadata": {},
   "source": [
    "# Goal:\n",
    "\n",
    "Try training LGBM with basic features (14d prediction)\n",
    "\n",
    "Group features:\n",
    "- same id, product id, name first, name second, categores, warehouse, warhouse location, combos\n",
    "- all of these --> lag sales, rolling sales, etc.\n",
    "\n",
    "Date features:\n",
    "- dow, month, year, etc.\n",
    "- is holiday"
   ]
  },
  {
   "cell_type": "markdown",
   "metadata": {},
   "source": []
  }
 ],
 "metadata": {
  "language_info": {
   "name": "python"
  }
 },
 "nbformat": 4,
 "nbformat_minor": 2
}
