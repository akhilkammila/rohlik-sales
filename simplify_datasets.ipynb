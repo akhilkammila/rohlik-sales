{
 "cells": [
  {
   "cell_type": "markdown",
   "metadata": {},
   "source": [
    "# Make datasets smaller for plugin into chat"
   ]
  },
  {
   "cell_type": "code",
   "execution_count": 9,
   "metadata": {},
   "outputs": [],
   "source": [
    "import pandas as pd\n",
    "import numpy as np"
   ]
  },
  {
   "cell_type": "code",
   "execution_count": 10,
   "metadata": {},
   "outputs": [],
   "source": [
    "DIRECTORY = './data/'\n",
    "calendar = pd.read_csv(DIRECTORY + 'calendar.csv', parse_dates=['date'])\n",
    "inventory = pd.read_csv(DIRECTORY + 'inventory.csv')\n",
    "test = pd.read_csv(DIRECTORY + 'sales_test.csv', parse_dates=['date'])\n",
    "train = pd.read_csv(DIRECTORY + 'sales_train.csv', parse_dates=['date'])\n",
    "solution = pd.read_csv(DIRECTORY + 'solution.csv')\n",
    "test_weights = pd.read_csv(DIRECTORY + 'test_weights.csv')"
   ]
  },
  {
   "cell_type": "code",
   "execution_count": 11,
   "metadata": {},
   "outputs": [
    {
     "name": "stdout",
     "output_type": "stream",
     "text": [
      "calendar: 2.87 MBs\n",
      "inventory: 2.08 MBs\n",
      "test: 6.51 MBs\n",
      "train: 615.74 MBs\n",
      "solution: 3.22 MBs\n",
      "test_weights: 0.08 MBs\n"
     ]
    }
   ],
   "source": [
    "# Print file sizes\n",
    "dfs = ['calendar', 'inventory', 'test', 'train', 'solution', 'test_weights']\n",
    "for df in dfs:\n",
    "    mbs = globals()[df].memory_usage(deep=True).sum()/1024/1024\n",
    "    print(f'{df}: {mbs:.2f} MBs')"
   ]
  },
  {
   "cell_type": "code",
   "execution_count": 19,
   "metadata": {},
   "outputs": [],
   "source": [
    "# Train is what realy matters\n",
    "train = train[train['date'] >= pd.to_datetime('2022-01-01')] # filter for only 2022 and after\n",
    "calendar = calendar[calendar['date'] >= pd.to_datetime('2022-01-01')]\n",
    "\n",
    "# Only select 10 unique ids\n",
    "chosen_ids = [1,2,3,4,5,6,7,8,9]\n",
    "train = train[train['unique_id'].isin(chosen_ids)]\n",
    "test = test[test['unique_id'].isin(chosen_ids)]\n",
    "inventory = inventory[inventory['unique_id'].isin(chosen_ids)]\n",
    "test_weights = test_weights[test_weights['unique_id'].isin(chosen_ids)]"
   ]
  },
  {
   "cell_type": "code",
   "execution_count": 20,
   "metadata": {},
   "outputs": [
    {
     "data": {
      "text/html": [
       "<div>\n",
       "<style scoped>\n",
       "    .dataframe tbody tr th:only-of-type {\n",
       "        vertical-align: middle;\n",
       "    }\n",
       "\n",
       "    .dataframe tbody tr th {\n",
       "        vertical-align: top;\n",
       "    }\n",
       "\n",
       "    .dataframe thead th {\n",
       "        text-align: right;\n",
       "    }\n",
       "</style>\n",
       "<table border=\"1\" class=\"dataframe\">\n",
       "  <thead>\n",
       "    <tr style=\"text-align: right;\">\n",
       "      <th></th>\n",
       "      <th>unique_id</th>\n",
       "      <th>weight</th>\n",
       "    </tr>\n",
       "  </thead>\n",
       "  <tbody>\n",
       "    <tr>\n",
       "      <th>1</th>\n",
       "      <td>1</td>\n",
       "      <td>3.888933</td>\n",
       "    </tr>\n",
       "    <tr>\n",
       "      <th>2</th>\n",
       "      <td>2</td>\n",
       "      <td>5.885237</td>\n",
       "    </tr>\n",
       "    <tr>\n",
       "      <th>3</th>\n",
       "      <td>3</td>\n",
       "      <td>2.139552</td>\n",
       "    </tr>\n",
       "    <tr>\n",
       "      <th>4</th>\n",
       "      <td>5</td>\n",
       "      <td>3.021715</td>\n",
       "    </tr>\n",
       "    <tr>\n",
       "      <th>5</th>\n",
       "      <td>6</td>\n",
       "      <td>3.806021</td>\n",
       "    </tr>\n",
       "    <tr>\n",
       "      <th>6</th>\n",
       "      <td>7</td>\n",
       "      <td>2.008733</td>\n",
       "    </tr>\n",
       "    <tr>\n",
       "      <th>7</th>\n",
       "      <td>8</td>\n",
       "      <td>3.006070</td>\n",
       "    </tr>\n",
       "    <tr>\n",
       "      <th>8</th>\n",
       "      <td>9</td>\n",
       "      <td>3.332580</td>\n",
       "    </tr>\n",
       "  </tbody>\n",
       "</table>\n",
       "</div>"
      ],
      "text/plain": [
       "   unique_id    weight\n",
       "1          1  3.888933\n",
       "2          2  5.885237\n",
       "3          3  2.139552\n",
       "4          5  3.021715\n",
       "5          6  3.806021\n",
       "6          7  2.008733\n",
       "7          8  3.006070\n",
       "8          9  3.332580"
      ]
     },
     "execution_count": 20,
     "metadata": {},
     "output_type": "execute_result"
    }
   ],
   "source": [
    "test_weights"
   ]
  },
  {
   "cell_type": "code",
   "execution_count": 21,
   "metadata": {},
   "outputs": [
    {
     "name": "stdout",
     "output_type": "stream",
     "text": [
      "calendar: 0.08 MBs\n",
      "inventory: 0.08 MBs\n",
      "test: 0.08 MBs\n",
      "train: 0.08 MBs\n",
      "solution: 0.08 MBs\n",
      "test_weights: 0.08 MBs\n"
     ]
    }
   ],
   "source": [
    "# Print file sizes\n",
    "dfs = ['calendar', 'inventory', 'test', 'train', 'solution', 'test_weights']\n",
    "for df in dfs:\n",
    "    globals()[df].memory_usage(deep=True).sum()/1024/1024\n",
    "    print(f'{df}: {mbs:.2f} MBs')"
   ]
  },
  {
   "cell_type": "code",
   "execution_count": 22,
   "metadata": {},
   "outputs": [],
   "source": [
    "# Output\n",
    "OUTPUT_DIRECTORY = './simplified-data/'\n",
    "dfs = ['calendar', 'inventory', 'test', 'train', 'solution', 'test_weights']\n",
    "for df in dfs:\n",
    "    globals()[df].to_csv(OUTPUT_DIRECTORY + df + '.csv', index=False)"
   ]
  }
 ],
 "metadata": {
  "kernelspec": {
   "display_name": "tradingClub",
   "language": "python",
   "name": "python3"
  },
  "language_info": {
   "codemirror_mode": {
    "name": "ipython",
    "version": 3
   },
   "file_extension": ".py",
   "mimetype": "text/x-python",
   "name": "python",
   "nbconvert_exporter": "python",
   "pygments_lexer": "ipython3",
   "version": "3.12.5"
  }
 },
 "nbformat": 4,
 "nbformat_minor": 2
}
