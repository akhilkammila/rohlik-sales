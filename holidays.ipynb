{
 "cells": [
  {
   "cell_type": "markdown",
   "metadata": {},
   "source": [
    "# Can we just drop holidays?\n"
   ]
  },
  {
   "cell_type": "code",
   "execution_count": 1,
   "metadata": {},
   "outputs": [],
   "source": [
    "import pandas as pd\n",
    "import numpy as np\n",
    "import seaborn as sns\n",
    "import matplotlib.pyplot as plt"
   ]
  },
  {
   "cell_type": "code",
   "execution_count": 2,
   "metadata": {},
   "outputs": [],
   "source": [
    "DIRECTORY = './data/'\n",
    "calendar = pd.read_csv(DIRECTORY + 'calendar.csv', parse_dates=['date'])\n",
    "inventory = pd.read_csv(DIRECTORY + 'inventory.csv')\n",
    "test = pd.read_csv(DIRECTORY + 'sales_test.csv', parse_dates=['date'])\n",
    "train = pd.read_csv(DIRECTORY + 'sales_train.csv', parse_dates=['date'])\n",
    "solution = pd.read_csv(DIRECTORY + 'solution.csv')\n",
    "test_weights = pd.read_csv(DIRECTORY + 'test_weights.csv')"
   ]
  },
  {
   "cell_type": "code",
   "execution_count": 20,
   "metadata": {},
   "outputs": [],
   "source": [
    "start_test = test['date'].min()\n",
    "end_test = test['date'].max()\n",
    "\n",
    "calendar = calendar.sort_values(by='date')\n",
    "test_calendar = calendar[(calendar['date'] >= start_test) & (calendar['date'] <= end_test)]"
   ]
  },
  {
   "cell_type": "code",
   "execution_count": 19,
   "metadata": {},
   "outputs": [
    {
     "name": "stdout",
     "output_type": "stream",
     "text": [
      "Holiday set but no name: 166\n",
      "Holiday name present but not set: 122\n"
     ]
    },
    {
     "data": {
      "text/plain": [
       "<DatetimeArray>\n",
       "['2016-03-25 00:00:00', '2016-03-26 00:00:00', '2016-03-27 00:00:00',\n",
       " '2016-03-28 00:00:00', '2017-04-14 00:00:00', '2017-04-15 00:00:00',\n",
       " '2017-04-16 00:00:00', '2017-04-17 00:00:00', '2018-03-30 00:00:00',\n",
       " '2018-03-31 00:00:00', '2018-04-01 00:00:00', '2018-04-02 00:00:00',\n",
       " '2019-04-20 00:00:00', '2019-04-21 00:00:00', '2020-04-11 00:00:00',\n",
       " '2020-04-12 00:00:00', '2021-04-03 00:00:00', '2021-04-04 00:00:00',\n",
       " '2022-04-16 00:00:00', '2022-04-17 00:00:00', '2023-04-08 00:00:00',\n",
       " '2023-04-09 00:00:00', '2024-03-30 00:00:00', '2024-03-31 00:00:00']\n",
       "Length: 24, dtype: datetime64[ns]"
      ]
     },
     "execution_count": 19,
     "metadata": {},
     "output_type": "execute_result"
    }
   ],
   "source": [
    "holiday_set = calendar[calendar['holiday'] == 1].index\n",
    "holiday_name_present = calendar[~calendar['holiday_name'].isna()].index\n",
    "holiday_set_no_name = np.setdiff1d(holiday_set, holiday_name_present)\n",
    "holiday_name_but_not_set = np.setdiff1d(holiday_name_present, holiday_set)\n",
    "print(\"Holiday set but no name:\", len(holiday_set_no_name))\n",
    "print(\"Holiday name present but not set:\", len(holiday_name_but_not_set))\n",
    "\n",
    "calendar[calendar.index.isin(holiday_set_no_name)]['date'].unique()"
   ]
  },
  {
   "cell_type": "code",
   "execution_count": 23,
   "metadata": {},
   "outputs": [
    {
     "data": {
      "text/html": [
       "<div>\n",
       "<style scoped>\n",
       "    .dataframe tbody tr th:only-of-type {\n",
       "        vertical-align: middle;\n",
       "    }\n",
       "\n",
       "    .dataframe tbody tr th {\n",
       "        vertical-align: top;\n",
       "    }\n",
       "\n",
       "    .dataframe thead th {\n",
       "        text-align: right;\n",
       "    }\n",
       "</style>\n",
       "<table border=\"1\" class=\"dataframe\">\n",
       "  <thead>\n",
       "    <tr style=\"text-align: right;\">\n",
       "      <th></th>\n",
       "      <th>date</th>\n",
       "      <th>holiday_name</th>\n",
       "      <th>holiday</th>\n",
       "      <th>shops_closed</th>\n",
       "      <th>winter_school_holidays</th>\n",
       "      <th>school_holidays</th>\n",
       "      <th>warehouse</th>\n",
       "    </tr>\n",
       "  </thead>\n",
       "  <tbody>\n",
       "    <tr>\n",
       "      <th>20142</th>\n",
       "      <td>2024-06-04</td>\n",
       "      <td>Day of National Unity</td>\n",
       "      <td>0</td>\n",
       "      <td>0</td>\n",
       "      <td>0</td>\n",
       "      <td>0</td>\n",
       "      <td>Budapest_1</td>\n",
       "    </tr>\n",
       "  </tbody>\n",
       "</table>\n",
       "</div>"
      ],
      "text/plain": [
       "            date           holiday_name  holiday  shops_closed  \\\n",
       "20142 2024-06-04  Day of National Unity        0             0   \n",
       "\n",
       "       winter_school_holidays  school_holidays   warehouse  \n",
       "20142                       0                0  Budapest_1  "
      ]
     },
     "execution_count": 23,
     "metadata": {},
     "output_type": "execute_result"
    }
   ],
   "source": [
    "# Only 1 holiday; let's just drop and deal with it later\n",
    "test_calendar[test_calendar['holiday'] | (~test_calendar['holiday_name'].isna())]"
   ]
  }
 ],
 "metadata": {
  "kernelspec": {
   "display_name": "tradingClub",
   "language": "python",
   "name": "python3"
  },
  "language_info": {
   "codemirror_mode": {
    "name": "ipython",
    "version": 3
   },
   "file_extension": ".py",
   "mimetype": "text/x-python",
   "name": "python",
   "nbconvert_exporter": "python",
   "pygments_lexer": "ipython3",
   "version": "3.12.5"
  }
 },
 "nbformat": 4,
 "nbformat_minor": 2
}
